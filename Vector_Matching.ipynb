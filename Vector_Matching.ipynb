{
 "cells": [
  {
   "cell_type": "code",
   "execution_count": 1,
   "id": "e052731c",
   "metadata": {},
   "outputs": [
    {
     "ename": "ModuleNotFoundError",
     "evalue": "No module named 'librosa'",
     "output_type": "error",
     "traceback": [
      "\u001b[1;31m---------------------------------------------------------------------------\u001b[0m",
      "\u001b[1;31mModuleNotFoundError\u001b[0m                       Traceback (most recent call last)",
      "\u001b[1;32mc:\\Users\\prest\\Desktop\\rhythm_regression\\Vector_Matching.ipynb Cell 1\u001b[0m in \u001b[0;36m<module>\u001b[1;34m\u001b[0m\n\u001b[1;32m----> <a href='vscode-notebook-cell:/c%3A/Users/prest/Desktop/rhythm_regression/Vector_Matching.ipynb#W0sZmlsZQ%3D%3D?line=0'>1</a>\u001b[0m \u001b[39mimport\u001b[39;00m \u001b[39mrhythm_regression\u001b[39;00m\u001b[39m.\u001b[39;00m\u001b[39maudio_processing\u001b[39;00m \u001b[39mas\u001b[39;00m \u001b[39map\u001b[39;00m\n\u001b[0;32m      <a href='vscode-notebook-cell:/c%3A/Users/prest/Desktop/rhythm_regression/Vector_Matching.ipynb#W0sZmlsZQ%3D%3D?line=1'>2</a>\u001b[0m \u001b[39mfrom\u001b[39;00m \u001b[39mrhythm_regression\u001b[39;00m\u001b[39m.\u001b[39;00m\u001b[39maudio_processing\u001b[39;00m \u001b[39mimport\u001b[39;00m SAMPLING_RATE, FRAME_SIZE, HOP_LENGTH, AMPLITUDE_THRESHOLD\n\u001b[0;32m      <a href='vscode-notebook-cell:/c%3A/Users/prest/Desktop/rhythm_regression/Vector_Matching.ipynb#W0sZmlsZQ%3D%3D?line=2'>3</a>\u001b[0m \u001b[39mimport\u001b[39;00m \u001b[39mrhythm_regression\u001b[39;00m\u001b[39m.\u001b[39;00m\u001b[39mmidi_processing\u001b[39;00m \u001b[39mas\u001b[39;00m \u001b[39mmp\u001b[39;00m\n",
      "File \u001b[1;32mc:\\Users\\prest\\Desktop\\rhythm_regression\\rhythm_regression\\audio_processing.py:1\u001b[0m, in \u001b[0;36m<module>\u001b[1;34m\u001b[0m\n\u001b[1;32m----> 1\u001b[0m \u001b[39mimport\u001b[39;00m \u001b[39mlibrosa\u001b[39;00m\n\u001b[0;32m      2\u001b[0m \u001b[39mimport\u001b[39;00m \u001b[39mnumpy\u001b[39;00m \u001b[39mas\u001b[39;00m \u001b[39mnp\u001b[39;00m\n\u001b[0;32m      4\u001b[0m SAMPLING_RATE \u001b[39m=\u001b[39m \u001b[39m22050\u001b[39m\n",
      "\u001b[1;31mModuleNotFoundError\u001b[0m: No module named 'librosa'"
     ]
    }
   ],
   "source": [
    "import rhythm_regression.audio_processing as ap\n",
    "from rhythm_regression.audio_processing import SAMPLING_RATE, FRAME_SIZE, HOP_LENGTH, AMPLITUDE_THRESHOLD\n",
    "import rhythm_regression.midi_processing as mp\n",
    "import rhythm_regression.notebook_tools as nbt\n",
    "import rhythm_regression.vector_processing as vp\n",
    "\n",
    "import librosa\n",
    "import numpy as np\n",
    "import matplotlib.pyplot as plt\n",
    "import mido\n",
    "import pandas as pd\n",
    "\n",
    "import warnings\n",
    "warnings.filterwarnings('ignore')\n",
    "pd.set_option('display.max_columns', None)\n",
    "pd.set_option('display.max_rows', None)"
   ]
  },
  {
   "cell_type": "code",
   "execution_count": null,
   "id": "ea370624",
   "metadata": {},
   "outputs": [
    {
     "data": {
      "text/html": [
       "<div>\n",
       "<style scoped>\n",
       "    .dataframe tbody tr th:only-of-type {\n",
       "        vertical-align: middle;\n",
       "    }\n",
       "\n",
       "    .dataframe tbody tr th {\n",
       "        vertical-align: top;\n",
       "    }\n",
       "\n",
       "    .dataframe thead th {\n",
       "        text-align: right;\n",
       "    }\n",
       "</style>\n",
       "<table border=\"1\" class=\"dataframe\">\n",
       "  <thead>\n",
       "    <tr style=\"text-align: right;\">\n",
       "      <th></th>\n",
       "      <th>sample_name</th>\n",
       "      <th>file format</th>\n",
       "      <th>midi_file</th>\n",
       "      <th>tempo</th>\n",
       "      <th>in_time</th>\n",
       "      <th>dynamic</th>\n",
       "      <th>composer</th>\n",
       "      <th>recorded with</th>\n",
       "      <th>distance to mic (ft)</th>\n",
       "      <th>Room</th>\n",
       "      <th>audible met</th>\n",
       "      <th>met type</th>\n",
       "      <th>player_met_aware</th>\n",
       "      <th>recorder_met_aware</th>\n",
       "      <th>correct_rhythm</th>\n",
       "      <th>notes</th>\n",
       "    </tr>\n",
       "    <tr>\n",
       "      <th>sample_id</th>\n",
       "      <th></th>\n",
       "      <th></th>\n",
       "      <th></th>\n",
       "      <th></th>\n",
       "      <th></th>\n",
       "      <th></th>\n",
       "      <th></th>\n",
       "      <th></th>\n",
       "      <th></th>\n",
       "      <th></th>\n",
       "      <th></th>\n",
       "      <th></th>\n",
       "      <th></th>\n",
       "      <th></th>\n",
       "      <th></th>\n",
       "      <th></th>\n",
       "    </tr>\n",
       "  </thead>\n",
       "  <tbody>\n",
       "    <tr>\n",
       "      <th>1</th>\n",
       "      <td>Sample 1</td>\n",
       "      <td>m4a</td>\n",
       "      <td>Ram_8's_120bpm.mid</td>\n",
       "      <td>120</td>\n",
       "      <td>True</td>\n",
       "      <td>F</td>\n",
       "      <td>Christian Kuhlman</td>\n",
       "      <td>iphone</td>\n",
       "      <td>5</td>\n",
       "      <td>bedroom</td>\n",
       "      <td>False</td>\n",
       "      <td>metropitch</td>\n",
       "      <td>True</td>\n",
       "      <td>False</td>\n",
       "      <td>NaN</td>\n",
       "      <td>NaN</td>\n",
       "    </tr>\n",
       "    <tr>\n",
       "      <th>2</th>\n",
       "      <td>Sample 2</td>\n",
       "      <td>m4a</td>\n",
       "      <td>Ram_8's_120bpm.mid</td>\n",
       "      <td>120</td>\n",
       "      <td>True</td>\n",
       "      <td>F</td>\n",
       "      <td>Christian Kuhlman</td>\n",
       "      <td>iphone</td>\n",
       "      <td>5</td>\n",
       "      <td>bedroom</td>\n",
       "      <td>False</td>\n",
       "      <td>metropitch</td>\n",
       "      <td>True</td>\n",
       "      <td>False</td>\n",
       "      <td>NaN</td>\n",
       "      <td>NaN</td>\n",
       "    </tr>\n",
       "    <tr>\n",
       "      <th>3</th>\n",
       "      <td>Sample 3</td>\n",
       "      <td>m4a</td>\n",
       "      <td>Ram_8's_120bpm.mid</td>\n",
       "      <td>120</td>\n",
       "      <td>True</td>\n",
       "      <td>F</td>\n",
       "      <td>Christian Kuhlman</td>\n",
       "      <td>iphone</td>\n",
       "      <td>5</td>\n",
       "      <td>bedroom</td>\n",
       "      <td>False</td>\n",
       "      <td>metropitch</td>\n",
       "      <td>True</td>\n",
       "      <td>False</td>\n",
       "      <td>NaN</td>\n",
       "      <td>NaN</td>\n",
       "    </tr>\n",
       "    <tr>\n",
       "      <th>4</th>\n",
       "      <td>Sample 4</td>\n",
       "      <td>m4a</td>\n",
       "      <td>Ram_8's_120bpm.mid</td>\n",
       "      <td>120</td>\n",
       "      <td>True</td>\n",
       "      <td>F</td>\n",
       "      <td>Christian Kuhlman</td>\n",
       "      <td>iphone</td>\n",
       "      <td>5</td>\n",
       "      <td>bedroom</td>\n",
       "      <td>False</td>\n",
       "      <td>metropitch</td>\n",
       "      <td>True</td>\n",
       "      <td>False</td>\n",
       "      <td>NaN</td>\n",
       "      <td>NaN</td>\n",
       "    </tr>\n",
       "    <tr>\n",
       "      <th>5</th>\n",
       "      <td>Sample 5</td>\n",
       "      <td>m4a</td>\n",
       "      <td>Ram_8's_120bpm.mid</td>\n",
       "      <td>120</td>\n",
       "      <td>True</td>\n",
       "      <td>F</td>\n",
       "      <td>Christian Kuhlman</td>\n",
       "      <td>iphone</td>\n",
       "      <td>5</td>\n",
       "      <td>bedroom</td>\n",
       "      <td>False</td>\n",
       "      <td>metropitch</td>\n",
       "      <td>True</td>\n",
       "      <td>False</td>\n",
       "      <td>NaN</td>\n",
       "      <td>NaN</td>\n",
       "    </tr>\n",
       "  </tbody>\n",
       "</table>\n",
       "</div>"
      ],
      "text/plain": [
       "          sample_name file format           midi_file  tempo  in_time dynamic  \\\n",
       "sample_id                                                                       \n",
       "1            Sample 1         m4a  Ram_8's_120bpm.mid    120     True       F   \n",
       "2            Sample 2         m4a  Ram_8's_120bpm.mid    120     True       F   \n",
       "3            Sample 3         m4a  Ram_8's_120bpm.mid    120     True       F   \n",
       "4            Sample 4         m4a  Ram_8's_120bpm.mid    120     True       F   \n",
       "5            Sample 5         m4a  Ram_8's_120bpm.mid    120     True       F   \n",
       "\n",
       "                    composer recorded with   distance to mic (ft)     Room  \\\n",
       "sample_id                                                                    \n",
       "1          Christian Kuhlman         iphone                     5  bedroom   \n",
       "2          Christian Kuhlman         iphone                     5  bedroom   \n",
       "3          Christian Kuhlman         iphone                     5  bedroom   \n",
       "4          Christian Kuhlman         iphone                     5  bedroom   \n",
       "5          Christian Kuhlman         iphone                     5  bedroom   \n",
       "\n",
       "           audible met    met type  player_met_aware  recorder_met_aware  \\\n",
       "sample_id                                                                  \n",
       "1                False  metropitch              True               False   \n",
       "2                False  metropitch              True               False   \n",
       "3                False  metropitch              True               False   \n",
       "4                False  metropitch              True               False   \n",
       "5                False  metropitch              True               False   \n",
       "\n",
       "          correct_rhythm notes  \n",
       "sample_id                       \n",
       "1                    NaN   NaN  \n",
       "2                    NaN   NaN  \n",
       "3                    NaN   NaN  \n",
       "4                    NaN   NaN  \n",
       "5                    NaN   NaN  "
      ]
     },
     "execution_count": 2,
     "metadata": {},
     "output_type": "execute_result"
    }
   ],
   "source": [
    "samples_table = pd.read_csv('./data/Samples.csv', index_col=0)\n",
    "samples_table.head()"
   ]
  },
  {
   "cell_type": "markdown",
   "id": "cce07a3d",
   "metadata": {},
   "source": [
    "# Extra Transients"
   ]
  },
  {
   "cell_type": "code",
   "execution_count": null,
   "id": "9d94997d",
   "metadata": {},
   "outputs": [
    {
     "data": {
      "text/plain": [
       "(array([ 8.        ,  8.12698413,  8.26984127,  8.3968254 ,  8.53968254,\n",
       "         8.68253968,  8.95238095,  9.0952381 ,  9.23809524,  9.49206349,\n",
       "         9.63492063,  9.77777778,  9.84126984,  9.93650794, 10.03174603,\n",
       "        10.17460317, 10.23809524, 10.31746032, 10.38095238, 10.46031746,\n",
       "        10.53968254, 10.6031746 , 10.66666667, 10.74603175, 11.        ,\n",
       "        11.26984127, 11.41269841, 11.49206349, 11.57142857, 11.68253968,\n",
       "        11.82539683, 11.88888889, 11.98412698, 12.11111111, 12.17460317,\n",
       "        12.25396825, 12.38095238, 12.53968254, 12.68253968, 12.80952381,\n",
       "        13.04761905, 13.20634921, 13.44444444, 13.6031746 , 13.66666667,\n",
       "        13.76190476, 13.87301587, 14.01587302, 14.07936508, 14.15873016,\n",
       "        14.23809524, 14.31746032, 14.42857143, 14.47619048, 14.57142857,\n",
       "        14.63492063, 14.71428571, 14.77777778, 14.85714286, 14.96825397,\n",
       "        15.11111111, 15.34920635, 15.42857143, 15.49206349, 15.57142857,\n",
       "        15.65079365, 15.77777778, 15.92063492, 16.06349206, 16.17460317,\n",
       "        16.33333333, 16.38095238, 16.46031746, 16.6031746 , 16.73015873,\n",
       "        16.80952381, 16.88888889, 16.95238095, 17.01587302, 17.0952381 ,\n",
       "        17.17460317, 17.23809524, 17.31746032, 17.3968254 , 17.49206349,\n",
       "        17.57142857, 17.66666667, 17.74603175, 17.84126984, 17.98412698,\n",
       "        18.0952381 , 18.25396825, 18.38095238, 18.50793651, 18.65079365,\n",
       "        18.77777778, 18.92063492, 19.04761905, 19.17460317, 19.46031746,\n",
       "        19.6031746 , 19.74603175, 19.88888889, 20.03174603, 20.17460317,\n",
       "        20.3015873 , 20.46031746, 20.6031746 , 20.73015873, 20.87301587,\n",
       "        20.98412698, 21.11111111, 21.25396825, 21.38095238, 21.52380952,\n",
       "        21.65079365, 21.79365079, 21.92063492, 22.06349206, 22.20634921,\n",
       "        22.33333333, 22.47619048, 22.6031746 , 22.73015873, 22.85714286,\n",
       "        23.        , 23.14285714, 23.26984127, 23.3968254 , 23.53968254,\n",
       "        23.66666667, 23.79365079, 23.92063492, 24.06349206, 24.20634921,\n",
       "        24.34920635, 24.47619048, 24.61904762, 24.76190476, 24.88888889,\n",
       "        25.03174603, 25.28571429, 25.41269841, 25.55555556, 25.6984127 ,\n",
       "        25.84126984, 25.96825397, 26.12698413, 26.25396825, 26.3968254 ,\n",
       "        26.53968254, 26.68253968, 26.80952381, 26.95238095, 27.07936508,\n",
       "        27.22222222, 27.36507937, 27.49206349, 27.61904762, 27.76190476,\n",
       "        27.9047619 , 28.04761905, 28.17460317, 28.33333333, 28.46031746,\n",
       "        28.58730159, 28.73015873, 28.85714286, 29.        , 29.12698413,\n",
       "        29.26984127, 29.3968254 , 29.53968254, 29.68253968, 29.80952381,\n",
       "        29.95238095, 30.07936508, 30.20634921, 30.33333333, 30.58730159,\n",
       "        30.65079365, 30.73015873, 30.88888889, 31.01587302, 31.0952381 ,\n",
       "        31.17460317, 31.33333333, 31.46031746, 31.58730159, 31.6984127 ,\n",
       "        31.79365079, 31.87301587, 31.95238095, 32.03174603, 32.28571429,\n",
       "        32.53968254, 32.63492063, 32.73015873, 32.84126984, 32.93650794,\n",
       "        33.03174603, 33.15873016, 33.28571429, 33.3968254 , 33.52380952,\n",
       "        33.66666667, 33.77777778, 33.9047619 , 34.03174603, 34.17460317,\n",
       "        34.3015873 , 34.42857143, 34.57142857, 34.6984127 , 34.80952381,\n",
       "        34.88888889, 34.96825397, 35.07936508, 35.17460317, 35.26984127,\n",
       "        35.36507937, 35.46031746, 35.63492063, 35.82539683, 36.        ,\n",
       "        36.19047619, 36.38095238, 36.88888889, 39.04761905]),\n",
       " array([ 6.000005  ,  6.13636875,  6.2727325 ,  6.40909625,  6.54546   ,\n",
       "         6.68182375,  6.95455125,  7.090915  ,  7.22727875,  7.50000625,\n",
       "         7.63637   ,  7.77273375,  7.84091563,  7.9090975 ,  8.04546125,\n",
       "         8.181825  ,  8.25000688,  8.31818875,  8.38637063,  8.4545525 ,\n",
       "         8.52273438,  8.59091625,  8.65909813,  8.72728   ,  9.0000075 ,\n",
       "         9.272735  ,  9.40909875,  9.47728063,  9.5454625 ,  9.68182625,\n",
       "         9.81819   ,  9.88637188,  9.95455375, 10.0909175 , 10.15909938,\n",
       "        10.22728125, 10.363645  , 10.50000875, 10.6363725 , 10.77273625,\n",
       "        11.04546375, 11.1818275 , 11.454555  , 11.59091875, 11.65910063,\n",
       "        11.7272825 , 11.86364625, 12.00001   , 12.06819188, 12.13637375,\n",
       "        12.20455563, 12.2727375 , 12.40910125, 12.47728313, 12.545465  ,\n",
       "        12.61364688, 12.68182875, 12.75001063, 12.8181925 , 12.95455625,\n",
       "        13.09092   , 13.3636475 , 13.43182938, 13.50001125, 13.56819313,\n",
       "        13.636375  , 13.77273875, 13.9091025 , 14.04546625, 14.18183   ,\n",
       "        14.31819375, 14.38637563, 14.4545575 , 14.59092125, 14.727285  ,\n",
       "        14.79546688, 14.86364875, 14.93183063, 15.0000125 , 15.06819438,\n",
       "        15.13637625, 15.20455813, 15.27274   , 15.36364917, 15.45455833,\n",
       "        15.5454675 , 15.63637667, 15.72728583, 15.818195  , 15.95455875,\n",
       "        16.0909225 , 16.22728625, 16.36365   , 16.50001375, 16.6363775 ,\n",
       "        16.77274125, 16.909105  , 17.04546875, 17.1818325 , 17.45456   ,\n",
       "        17.59092375, 17.7272875 , 17.86365125, 18.000015  , 18.13637875,\n",
       "        18.2727425 , 18.40910625, 18.54547   , 18.68183375, 18.8181975 ,\n",
       "        18.95456125, 19.090925  , 19.22728875, 19.3636525 , 19.50001625,\n",
       "        19.63638   , 19.77274375, 19.9091075 , 20.04547125, 20.181835  ,\n",
       "        20.31819875, 20.4545625 , 20.59092625, 20.72729   , 20.86365375,\n",
       "        21.0000175 , 21.13638125, 21.272745  , 21.40910875, 21.5454725 ,\n",
       "        21.68183625, 21.8182    , 21.95456375, 22.0909275 , 22.22729125,\n",
       "        22.363655  , 22.50001875, 22.6363825 , 22.77274625, 22.90911   ,\n",
       "        23.04547375, 23.1818375 , 23.31820125, 23.454565  , 23.59092875,\n",
       "        23.7272925 , 23.86365625, 24.00002   , 24.13638375, 24.2727475 ,\n",
       "        24.40911125, 24.545475  , 24.68183875, 24.8182025 , 24.95456625,\n",
       "        25.09093   , 25.22729375, 25.3636575 , 25.50002125, 25.636385  ,\n",
       "        25.77274875, 25.9091125 , 26.04547625, 26.18184   , 26.31820375,\n",
       "        26.4545675 , 26.59093125, 26.727295  , 26.86365875, 27.0000225 ,\n",
       "        27.13638625, 27.27275   , 27.40911375, 27.5454775 , 27.68184125,\n",
       "        27.818205  , 27.95456875, 28.0909325 , 28.22729625, 28.36366   ,\n",
       "        28.6363875 , 28.70456938, 28.77275125, 28.909115  , 29.04547875,\n",
       "        29.11366063, 29.1818425 , 29.31820625, 29.45457   , 29.59093375,\n",
       "        29.7272975 , 29.79547938, 29.86366125, 29.93184313, 30.000025  ,\n",
       "        30.2727525 , 30.54548   , 30.63638917, 30.72729833, 30.8182075 ,\n",
       "        30.90911667, 31.00002583, 31.090935  , 31.22729875, 31.3636625 ,\n",
       "        31.50002625, 31.63639   , 31.77275375, 31.9091175 , 32.04548125,\n",
       "        32.181845  , 32.31820875, 32.4545725 , 32.59093625, 32.7273    ,\n",
       "        32.81820917, 32.90911833, 33.0000275 , 33.09093667, 33.18184583,\n",
       "        33.272755  , 33.45457333, 33.63639167, 33.81821   , 34.00002833,\n",
       "        34.18184667, 34.363665  , 34.90912   ]),\n",
       " 110)"
      ]
     },
     "execution_count": 3,
     "metadata": {},
     "output_type": "execute_result"
    }
   ],
   "source": [
    "#sample_name = 'Sample 9.m4a'\n",
    "sample_name = 'Sample 86.m4a'\n",
    "audio, sampling_rate = librosa.load(f'./data/audio/{sample_name}')\n",
    "transient_vector = ap.transients(audio, SAMPLING_RATE, FRAME_SIZE, HOP_LENGTH, AMPLITUDE_THRESHOLD)\n",
    "\n",
    "#midi_name = './data/midi/Ram_8\\'s_135bpm.mid'\n",
    "midi_name = './data/midi/CSU_Green_Beat_(Top_to_17)_110bpm.mid'\n",
    "midi = mido.MidiFile(midi_name)\n",
    "midi_vector = mp.get_midi_vector(midi)\n",
    "\n",
    "bpm = mp.get_bpm(midi)\n",
    "\n",
    "transient_vector, midi_vector, bpm"
   ]
  },
  {
   "cell_type": "code",
   "execution_count": null,
   "id": "af263304",
   "metadata": {},
   "outputs": [
    {
     "data": {
      "text/plain": [
       "(229, 228)"
      ]
     },
     "execution_count": 4,
     "metadata": {},
     "output_type": "execute_result"
    }
   ],
   "source": [
    "len(transient_vector), len(midi_vector)"
   ]
  },
  {
   "cell_type": "code",
   "execution_count": null,
   "id": "69574fdc",
   "metadata": {},
   "outputs": [
    {
     "data": {
      "text/plain": [
       "<AxesSubplot:xlabel='Time (s)'>"
      ]
     },
     "execution_count": 5,
     "metadata": {},
     "output_type": "execute_result"
    },
    {
     "data": {
      "image/png": "[encoded data removed]",
      "text/plain": [
       "<Figure size 1440x72 with 1 Axes>"
      ]
     },
     "metadata": {
      "needs_background": "light"
     },
     "output_type": "display_data"
    },
    {
     "data": {
      "image/png": "[encoded data removed]",
      "text/plain": [
       "<Figure size 1440x72 with 1 Axes>"
      ]
     },
     "metadata": {
      "needs_background": "light"
     },
     "output_type": "display_data"
    }
   ],
   "source": [
    "time_range = None\n",
    "nbt.plot_midi_vector(midi_vector, bpm, time_range=time_range, units='s', figsize=(20,1))\n",
    "nbt.plot_midi_vector(transient_vector, bpm, time_range=time_range, units='s', figsize=(20,1), color='red', draw_beats=False)"
   ]
  },
  {
   "cell_type": "code",
   "execution_count": null,
   "id": "69574fdc",
   "metadata": {},
   "outputs": [],
   "source": [
    "def delete_transients(t, m):\n",
    "\n",
    "    min_tae = np.inf\n",
    "    q_best = None\n",
    "\n",
    "    if m.min() > 0:\n",
    "        m = m - m.min()\n",
    "\n",
    "    for q in range(0, len(t) - len(m) + 1):\n",
    "        tae = np.abs((m+t[q]) - t[q : q+len(m)]).sum()\n",
    "\n",
    "        if tae < min_tae:  # less than gives us the first occurance, because solutions are non-unique\n",
    "            min_tae = tae\n",
    "            q_best = q\n",
    "\n",
    "    m_star = m + t[q_best]\n",
    "    t_star = [None] * len(m_star)\n",
    "\n",
    "    # each midi note selects its nearest transient\n",
    "    claimed_indices = []\n",
    "    for i in range(len(m_star)):\n",
    "        # we only have to check a neighborhood of 3 since m_star is shifted and both lists are sorted\n",
    "        left_index = max(q_best + i - 1, 0)\n",
    "        middle_index = q_best + i\n",
    "        right_index = min(q_best + i + 1, len(t)-1)\n",
    "\n",
    "        neighbors = [left_index, middle_index, right_index]\n",
    "        #neighbors.sort(key=lambda index: abs(m_star[i] - t[index]))\n",
    "        neighbors.sort(key=lambda index: vp.I_heuristic(m_star, t, i, index))\n",
    "        for j in range(len(neighbors)):\n",
    "            if neighbors[j] not in claimed_indices:\n",
    "                nearest_transient = neighbors[j]\n",
    "                claimed_indices.append(neighbors[j])\n",
    "                break\n",
    "\n",
    "        t_star[i] = t[nearest_transient]\n",
    "\n",
    "    return np.array(t_star)\n",
    "\n",
    "\n",
    "def explain_deletions(t, m, time_range=None, reversed=False):\n",
    "\n",
    "    min_tae = np.inf\n",
    "    q_best = None\n",
    "\n",
    "    if m.min() > 0:\n",
    "        m = m - m.min()\n",
    "\n",
    "    for q in range(0, len(t) - len(m) + 1):\n",
    "        tae = np.abs((m+t[q]) - t[q : q+len(m)]).sum()\n",
    "\n",
    "        if tae < min_tae:  # less than gives us the first occurance, because solutions are non-unique\n",
    "            min_tae = tae\n",
    "            q_best = q\n",
    "\n",
    "    m_star = m + t[q_best]\n",
    "    t_star = [None] * len(m_star)\n",
    "\n",
    "    m_color = 'red' if reversed else 'C0'\n",
    "    t_color = 'C0' if reversed else 'red'\n",
    "    m_y = 0.15 if reversed else 0.85\n",
    "    t_y = 0.85 if reversed else 0.15\n",
    "    axs = nbt.plot_midi_vector(m_star, bpm, time_range=time_range, units='s', figsize=(20,1), y_level=m_y, draw_beats=False, color=m_color)\n",
    "    axs = nbt.plot_midi_vector(t, bpm, time_range=time_range, units='s', figsize=(20,1), color=t_color, draw_beats=False, axs=axs, y_level=t_y)\n",
    "\n",
    "    # each midi note selects its nearest transient\n",
    "    claimed_indices = []\n",
    "    for i in range(len(m_star)):\n",
    "        # we only have to check a neighborhood of 3 since m_star is shifted and both lists are sorted\n",
    "        left_index = max(q_best + i - 1, 0)\n",
    "        middle_index = q_best + i\n",
    "        right_index = min(q_best + i + 1, len(t)-1)\n",
    "\n",
    "        neighbors = [left_index, middle_index, right_index]\n",
    "        #neighbors.sort(key=lambda index: abs(m_star[i] - t[index]))\n",
    "        neighbors.sort(key=lambda index: vp.I_heuristic(m_star, t, i, index))\n",
    "        for j in range(len(neighbors)):\n",
    "            if neighbors[j] not in claimed_indices:\n",
    "                nearest_transient = neighbors[j]\n",
    "                claimed_indices.append(neighbors[j])\n",
    "                \n",
    "                if time_range is None:\n",
    "                    in_time_range = True\n",
    "                else:\n",
    "                    in_time_range = (time_range[0] <= m_star[i]) and (m_star[i] <= time_range[1]) and (time_range[0] <= t[nearest_transient]) and (t[nearest_transient] <= time_range[1])\n",
    "                if in_time_range:\n",
    "                    #axs.plot([m_star[i], t[nearest_transient]], [0.85, 0.15], color='k')\n",
    "                    dy = t_y - m_y -0.1 if reversed else t_y - m_y + 0.1\n",
    "                    dx = t[nearest_transient] - m_star[i]\n",
    "                    axs.arrow(m_star[i], m_y, dx, dy, width=0.005, head_width=0.05, length_includes_head=True, color='k') \n",
    "                break\n",
    "\n",
    "    return axs\n",
    "            \n",
    "            "
   ]
  },
  {
   "cell_type": "code",
   "execution_count": null,
   "id": "c4303d7c",
   "metadata": {},
   "outputs": [
    {
     "name": "stdout",
     "output_type": "stream",
     "text": [
      "228\n"
     ]
    },
    {
     "data": {
      "text/plain": [
       "array([ 8.        ,  8.12698413,  8.26984127,  8.3968254 ,  8.53968254,\n",
       "        8.68253968,  8.95238095,  9.0952381 ,  9.23809524,  9.49206349,\n",
       "        9.63492063,  9.77777778,  9.84126984,  9.93650794, 10.03174603,\n",
       "       10.17460317, 10.23809524, 10.31746032, 10.38095238, 10.46031746,\n",
       "       10.53968254, 10.6031746 , 10.66666667, 10.74603175, 11.        ,\n",
       "       11.26984127, 11.41269841, 11.49206349, 11.57142857, 11.68253968,\n",
       "       11.82539683, 11.88888889, 11.98412698, 12.11111111, 12.17460317,\n",
       "       12.25396825, 12.38095238, 12.53968254, 12.68253968, 12.80952381,\n",
       "       13.04761905, 13.20634921, 13.44444444, 13.6031746 , 13.66666667,\n",
       "       13.76190476, 13.87301587, 14.01587302, 14.07936508, 14.15873016,\n",
       "       14.23809524, 14.31746032, 14.42857143, 14.47619048, 14.57142857,\n",
       "       14.63492063, 14.71428571, 14.77777778, 14.85714286, 14.96825397,\n",
       "       15.11111111, 15.34920635, 15.42857143, 15.49206349, 15.57142857,\n",
       "       15.65079365, 15.77777778, 15.92063492, 16.06349206, 16.17460317,\n",
       "       16.33333333, 16.38095238, 16.46031746, 16.6031746 , 16.73015873,\n",
       "       16.80952381, 16.88888889, 16.95238095, 17.01587302, 17.0952381 ,\n",
       "       17.17460317, 17.23809524, 17.31746032, 17.3968254 , 17.49206349,\n",
       "       17.57142857, 17.66666667, 17.74603175, 17.84126984, 17.98412698,\n",
       "       18.0952381 , 18.25396825, 18.38095238, 18.50793651, 18.65079365,\n",
       "       18.77777778, 18.92063492, 19.04761905, 19.17460317, 19.46031746,\n",
       "       19.6031746 , 19.74603175, 19.88888889, 20.03174603, 20.17460317,\n",
       "       20.3015873 , 20.46031746, 20.6031746 , 20.73015873, 20.87301587,\n",
       "       20.98412698, 21.11111111, 21.25396825, 21.38095238, 21.52380952,\n",
       "       21.65079365, 21.79365079, 21.92063492, 22.06349206, 22.20634921,\n",
       "       22.33333333, 22.47619048, 22.6031746 , 22.73015873, 22.85714286,\n",
       "       23.        , 23.14285714, 23.26984127, 23.3968254 , 23.53968254,\n",
       "       23.66666667, 23.79365079, 23.92063492, 24.06349206, 24.20634921,\n",
       "       24.34920635, 24.47619048, 24.61904762, 24.76190476, 24.88888889,\n",
       "       25.03174603, 25.28571429, 25.41269841, 25.55555556, 25.6984127 ,\n",
       "       25.84126984, 25.96825397, 26.12698413, 26.25396825, 26.3968254 ,\n",
       "       26.53968254, 26.68253968, 26.80952381, 26.95238095, 27.07936508,\n",
       "       27.22222222, 27.36507937, 27.49206349, 27.61904762, 27.76190476,\n",
       "       27.9047619 , 28.04761905, 28.17460317, 28.33333333, 28.46031746,\n",
       "       28.58730159, 28.73015873, 28.85714286, 29.        , 29.12698413,\n",
       "       29.26984127, 29.3968254 , 29.53968254, 29.68253968, 29.80952381,\n",
       "       29.95238095, 30.07936508, 30.20634921, 30.33333333, 30.58730159,\n",
       "       30.65079365, 30.73015873, 30.88888889, 31.01587302, 31.0952381 ,\n",
       "       31.17460317, 31.33333333, 31.46031746, 31.58730159, 31.6984127 ,\n",
       "       31.79365079, 31.87301587, 31.95238095, 32.03174603, 32.28571429,\n",
       "       32.53968254, 32.63492063, 32.73015873, 32.84126984, 32.93650794,\n",
       "       33.03174603, 33.15873016, 33.28571429, 33.3968254 , 33.52380952,\n",
       "       33.66666667, 33.77777778, 33.9047619 , 34.03174603, 34.17460317,\n",
       "       34.3015873 , 34.42857143, 34.57142857, 34.6984127 , 34.80952381,\n",
       "       34.88888889, 34.96825397, 35.07936508, 35.17460317, 35.26984127,\n",
       "       35.36507937, 35.46031746, 35.63492063, 35.82539683, 36.        ,\n",
       "       36.19047619, 36.38095238, 36.88888889])"
      ]
     },
     "execution_count": 7,
     "metadata": {},
     "output_type": "execute_result"
    }
   ],
   "source": [
    "t_star = delete_transients(transient_vector, midi_vector)\n",
    "print(len(t_star))\n",
    "t_star"
   ]
  },
  {
   "cell_type": "code",
   "execution_count": null,
   "id": "ffd1c168",
   "metadata": {},
   "outputs": [
    {
     "data": {
      "text/plain": [
       "Text(0.5, 1.0, 'Bad Transient Deletion (Sample 86.m4a)')"
      ]
     },
     "execution_count": 8,
     "metadata": {},
     "output_type": "execute_result"
    },
    {
     "data": {
      "image/png": "[encoded data removed]",
      "text/plain": [
       "<Figure size 1440x72 with 1 Axes>"
      ]
     },
     "metadata": {
      "needs_background": "light"
     },
     "output_type": "display_data"
    }
   ],
   "source": [
    "explain_deletions(transient_vector, midi_vector, time_range=(20,35))\n",
    "plt.title(f'Bad Transient Deletion ({sample_name})', fontsize=18)"
   ]
  },
  {
   "cell_type": "markdown",
   "id": "a6325b25",
   "metadata": {},
   "source": [
    "# Missing Transients"
   ]
  },
  {
   "cell_type": "code",
   "execution_count": null,
   "id": "11a00ebb",
   "metadata": {},
   "outputs": [
    {
     "data": {
      "text/plain": [
       "(array([ 3.19047619,  3.49206349,  3.77777778,  4.07936508,  4.36507937,\n",
       "         4.66666667,  4.93650794,  5.22222222,  5.52380952,  5.80952381,\n",
       "         6.0952381 ,  6.36507937,  6.63492063,  6.92063492,  7.22222222,\n",
       "         7.50793651,  7.79365079,  8.0952381 ,  8.38095238,  8.66666667,\n",
       "         8.93650794,  9.22222222,  9.50793651,  9.80952381, 10.0952381 ,\n",
       "        10.25396825, 10.3968254 , 10.52380952, 10.66666667, 10.79365079,\n",
       "        10.93650794, 11.        , 11.07936508, 11.22222222, 11.36507937,\n",
       "        11.42857143, 11.50793651, 11.65079365, 11.79365079, 11.92063492,\n",
       "        12.06349206, 12.20634921, 12.34920635, 12.47619048, 12.61904762,\n",
       "        12.76190476, 12.82539683, 12.9047619 , 13.04761905, 13.17460317,\n",
       "        13.25396825, 13.33333333, 13.49206349, 13.61904762, 13.76190476,\n",
       "        13.9047619 , 14.04761905, 14.19047619, 14.33333333, 14.47619048,\n",
       "        14.6031746 , 14.68253968, 14.76190476, 14.9047619 , 15.04761905,\n",
       "        15.11111111, 15.19047619, 15.34920635, 15.47619048, 15.63492063,\n",
       "        15.76190476, 15.9047619 , 16.04761905, 16.12698413, 16.19047619,\n",
       "        16.26984127, 16.34920635, 16.50793651, 16.57142857, 16.61904762,\n",
       "        16.6984127 , 16.77777778, 16.92063492, 17.06349206, 17.20634921,\n",
       "        17.34920635, 17.49206349, 17.63492063, 17.77777778, 17.9047619 ,\n",
       "        17.98412698, 18.04761905, 18.11111111, 18.20634921, 18.34920635,\n",
       "        18.42857143, 18.50793651, 18.57142857, 18.65079365, 18.79365079,\n",
       "        18.93650794, 19.07936508, 19.22222222, 19.34920635, 19.49206349,\n",
       "        19.55555556, 19.65079365, 19.77777778, 19.84126984, 19.92063492,\n",
       "        20.        , 20.07936508, 20.23809524, 20.3015873 , 20.36507937,\n",
       "        20.50793651, 20.65079365, 20.79365079, 20.92063492, 21.06349206,\n",
       "        21.20634921, 21.28571429, 21.36507937, 21.41269841, 21.50793651,\n",
       "        21.58730159, 21.65079365, 21.73015873, 21.79365079, 21.87301587,\n",
       "        21.95238095, 22.07936508, 22.22222222, 22.34920635, 22.47619048,\n",
       "        22.63492063, 22.76190476, 22.88888889, 22.95238095, 23.03174603,\n",
       "        23.0952381 , 23.19047619, 23.33333333, 23.47619048, 23.55555556,\n",
       "        23.61904762, 23.6984127 , 23.79365079, 23.93650794, 24.06349206,\n",
       "        24.22222222, 24.36507937, 24.50793651, 24.65079365, 24.73015873,\n",
       "        24.79365079, 24.93650794, 25.01587302, 25.0952381 , 25.22222222,\n",
       "        25.3015873 , 25.38095238, 25.53968254, 25.68253968, 25.80952381,\n",
       "        25.93650794, 26.07936508, 26.22222222, 26.34920635, 26.41269841,\n",
       "        26.49206349, 26.65079365, 26.71428571, 26.79365079, 26.93650794,\n",
       "        27.        , 27.0952381 , 27.25396825, 27.3968254 , 27.52380952,\n",
       "        27.65079365, 27.79365079, 27.92063492, 28.07936508, 28.22222222,\n",
       "        28.3015873 , 28.38095238, 28.53968254, 28.58730159, 28.66666667,\n",
       "        28.79365079, 28.87301587, 28.95238095, 29.0952381 , 29.23809524,\n",
       "        29.36507937, 29.50793651, 29.65079365, 29.79365079, 29.95238095,\n",
       "        30.01587302, 30.07936508, 30.22222222, 30.3015873 , 30.36507937,\n",
       "        30.50793651, 30.57142857, 30.65079365, 30.79365079, 30.93650794,\n",
       "        31.07936508, 31.20634921, 31.34920635, 31.47619048, 31.63492063,\n",
       "        31.6984127 , 31.77777778, 31.85714286, 31.93650794, 32.        ,\n",
       "        32.07936508, 32.15873016, 32.22222222, 32.3015873 , 32.38095238,\n",
       "        32.50793651, 32.63492063, 32.77777778, 32.92063492, 33.04761905,\n",
       "        33.17460317, 33.33333333, 33.41269841, 33.47619048, 33.55555556,\n",
       "        33.65079365, 33.71428571, 33.79365079, 33.87301587, 33.93650794,\n",
       "        34.01587302, 34.07936508, 34.15873016, 34.23809524, 34.3015873 ,\n",
       "        34.36507937, 34.42857143, 34.50793651, 34.57142857, 34.63492063,\n",
       "        34.71428571, 34.79365079, 34.85714286, 34.92063492, 35.        ,\n",
       "        35.06349206, 35.14285714, 35.20634921, 35.28571429, 35.36507937,\n",
       "        35.44444444, 35.49206349, 35.57142857, 35.65079365, 35.73015873,\n",
       "        35.79365079, 35.87301587, 35.93650794, 36.01587302, 36.07936508,\n",
       "        36.14285714, 36.22222222, 36.28571429, 36.36507937, 36.42857143,\n",
       "        36.52380952, 36.57142857, 36.65079365, 36.71428571, 36.79365079,\n",
       "        36.87301587, 36.92063492, 36.98412698, 37.06349206, 37.19047619,\n",
       "        37.25396825, 37.33333333, 37.46031746]),\n",
       " array([ 0.       ,  0.285714 ,  0.571428 ,  0.857142 ,  1.142856 ,\n",
       "         1.42857  ,  1.714284 ,  1.999998 ,  2.285712 ,  2.571426 ,\n",
       "         2.85714  ,  3.142854 ,  3.428568 ,  3.714282 ,  3.999996 ,\n",
       "         4.28571  ,  4.571424 ,  4.857138 ,  5.142852 ,  5.428566 ,\n",
       "         5.71428  ,  5.999994 ,  6.285708 ,  6.571422 ,  6.857136 ,\n",
       "         6.999993 ,  7.14285  ,  7.285707 ,  7.428564 ,  7.571421 ,\n",
       "         7.714278 ,  7.7857065,  7.857135 ,  7.999992 ,  8.142849 ,\n",
       "         8.2142775,  8.285706 ,  8.428563 ,  8.57142  ,  8.714277 ,\n",
       "         8.857134 ,  8.999991 ,  9.142848 ,  9.285705 ,  9.428562 ,\n",
       "         9.571419 ,  9.6428475,  9.714276 ,  9.857133 ,  9.99999  ,\n",
       "        10.0714185, 10.142847 , 10.285704 , 10.428561 , 10.571418 ,\n",
       "        10.714275 , 10.857132 , 10.999989 , 11.142846 , 11.285703 ,\n",
       "        11.42856  , 11.4999885, 11.571417 , 11.714274 , 11.857131 ,\n",
       "        11.9285595, 11.999988 , 12.142845 , 12.285702 , 12.428559 ,\n",
       "        12.571416 , 12.714273 , 12.85713  , 12.9285585, 12.999987 ,\n",
       "        13.0714155, 13.142844 , 13.285701 , 13.3571295, 13.428558 ,\n",
       "        13.4999865, 13.571415 , 13.714272 , 13.857129 , 13.999986 ,\n",
       "        14.142843 , 14.2857   , 14.428557 , 14.571414 , 14.714271 ,\n",
       "        14.7856995, 14.857128 , 14.9285565, 14.999985 , 15.142842 ,\n",
       "        15.2142705, 15.285699 , 15.3571275, 15.428556 , 15.571413 ,\n",
       "        15.71427  , 15.857127 , 15.999984 , 16.142841 , 16.285698 ,\n",
       "        16.3571265, 16.428555 , 16.571412 , 16.6428405, 16.714269 ,\n",
       "        16.7856975, 16.857126 , 16.999983 , 17.0714115, 17.14284  ,\n",
       "        17.285697 , 17.428554 , 17.571411 , 17.714268 , 17.857125 ,\n",
       "        17.999982 , 18.0714105, 18.142839 , 18.2142675, 18.285696 ,\n",
       "        18.3571245, 18.428553 , 18.4999815, 18.57141  , 18.6428385,\n",
       "        18.714267 , 18.7856955, 18.857124 , 18.999981 , 19.142838 ,\n",
       "        19.285695 , 19.428552 , 19.571409 , 19.714266 , 19.7856945,\n",
       "        19.857123 , 19.9285515, 19.99998  , 20.142837 , 20.285694 ,\n",
       "        20.3571225, 20.428551 , 20.4999795, 20.571408 , 20.714265 ,\n",
       "        20.857122 , 20.999979 , 21.142836 , 21.285693 , 21.42855  ,\n",
       "        21.4999785, 21.571407 , 21.714264 , 21.7856925, 21.857121 ,\n",
       "        21.999978 , 22.0714065, 22.142835 , 22.285692 , 22.428549 ,\n",
       "        22.571406 , 22.714263 , 22.85712  , 22.999977 , 23.142834 ,\n",
       "        23.2142625, 23.285691 , 23.428548 , 23.4999765, 23.571405 ,\n",
       "        23.714262 , 23.7856905, 23.857119 , 23.999976 , 24.142833 ,\n",
       "        24.28569  , 24.428547 , 24.571404 , 24.714261 , 24.857118 ,\n",
       "        24.999975 , 25.0714035, 25.142832 , 25.285689 , 25.3571175,\n",
       "        25.428546 , 25.571403 , 25.6428315, 25.71426  , 25.857117 ,\n",
       "        25.999974 , 26.142831 , 26.285688 , 26.428545 , 26.571402 ,\n",
       "        26.714259 , 26.7856875, 26.857116 , 26.999973 , 27.0714015,\n",
       "        27.14283  , 27.285687 , 27.3571155, 27.428544 , 27.571401 ,\n",
       "        27.714258 , 27.857115 , 27.999972 , 28.142829 , 28.285686 ,\n",
       "        28.428543 , 28.4999715, 28.5714   , 28.6428285, 28.714257 ,\n",
       "        28.7856855, 28.857114 , 28.9285425, 28.999971 , 29.0713995,\n",
       "        29.142828 , 29.285685 , 29.428542 , 29.571399 , 29.714256 ,\n",
       "        29.857113 , 29.99997  , 30.142827 , 30.2142555, 30.285684 ,\n",
       "        30.3571125, 30.428541 , 30.4999695, 30.571398 , 30.6428265,\n",
       "        30.714255 , 30.7856835, 30.857112 , 30.9285405, 30.999969 ,\n",
       "        31.0713975, 31.142826 , 31.2142545, 31.285683 , 31.3571115,\n",
       "        31.42854  , 31.4999685, 31.571397 , 31.6428255, 31.714254 ,\n",
       "        31.7856825, 31.857111 , 31.9285395, 31.999968 , 32.0713965,\n",
       "        32.142825 , 32.2142535, 32.285682 , 32.3571105, 32.428539 ,\n",
       "        32.4999675, 32.571396 , 32.6428245, 32.714253 , 32.7856815,\n",
       "        32.85711  , 32.9285385, 32.999967 , 33.0713955, 33.142824 ,\n",
       "        33.2142525, 33.285681 , 33.3571095, 33.428538 , 33.4999665,\n",
       "        33.571395 , 33.6428235, 33.714252 , 33.7856805, 33.857109 ,\n",
       "        33.9285375, 33.999966 , 34.0713945, 34.142823 , 34.2142515,\n",
       "        34.28568  ]),\n",
       " 140)"
      ]
     },
     "execution_count": 9,
     "metadata": {},
     "output_type": "execute_result"
    }
   ],
   "source": [
    "sample_name = 'Sample 69.m4a'\n",
    "audio, sampling_rate = librosa.load(f'./data/audio/{sample_name}')\n",
    "transient_vector = ap.transients(audio, SAMPLING_RATE, FRAME_SIZE, HOP_LENGTH, AMPLITUDE_THRESHOLD)\n",
    "\n",
    "midi_name = './data/midi/CAM_Rolls_(Edited)_140bpm.mid'\n",
    "midi = mido.MidiFile(midi_name)\n",
    "midi_vector = mp.get_midi_vector(midi)\n",
    "\n",
    "bpm = mp.get_bpm(midi)\n",
    "\n",
    "transient_vector, midi_vector, bpm"
   ]
  },
  {
   "cell_type": "code",
   "execution_count": null,
   "id": "ddbbee46",
   "metadata": {},
   "outputs": [
    {
     "data": {
      "text/plain": [
       "(288, 291)"
      ]
     },
     "execution_count": 10,
     "metadata": {},
     "output_type": "execute_result"
    }
   ],
   "source": [
    "len(transient_vector), len(midi_vector)"
   ]
  },
  {
   "cell_type": "code",
   "execution_count": null,
   "id": "65e7eafb",
   "metadata": {},
   "outputs": [
    {
     "data": {
      "text/plain": [
       "[<matplotlib.lines.Line2D at 0x2a2a2071520>]"
      ]
     },
     "execution_count": 11,
     "metadata": {},
     "output_type": "execute_result"
    },
    {
     "data": {
      "image/png": "[encoded data removed]",
      "text/plain": [
       "<Figure size 1440x72 with 1 Axes>"
      ]
     },
     "metadata": {
      "needs_background": "light"
     },
     "output_type": "display_data"
    },
    {
     "data": {
      "image/png": "[encoded data removed]",
      "text/plain": [
       "<Figure size 1440x72 with 1 Axes>"
      ]
     },
     "metadata": {
      "needs_background": "light"
     },
     "output_type": "display_data"
    },
    {
     "data": {
      "image/png": "[encoded data removed]",
      "text/plain": [
       "<Figure size 1440x72 with 1 Axes>"
      ]
     },
     "metadata": {
      "needs_background": "light"
     },
     "output_type": "display_data"
    },
    {
     "data": {
      "image/png": "[encoded data removed]",
      "text/plain": [
       "<Figure size 1440x72 with 1 Axes>"
      ]
     },
     "metadata": {
      "needs_background": "light"
     },
     "output_type": "display_data"
    }
   ],
   "source": [
    "nbt.plot_midi_vector(midi_vector, bpm, time_range=(17.1,19.2), units='s', figsize=(20,1))\n",
    "axs = nbt.plot_midi_vector(transient_vector, bpm, time_range=(20.35,22.4), units='s', figsize=(20,1), color='red', draw_beats=False)\n",
    "axs.plot([22.01], [0.3], 'Xk', markersize=10)\n",
    "\n",
    "nbt.plot_midi_vector(midi_vector, bpm, time_range=(29.1,45), units='s', figsize=(20,1))\n",
    "axs = nbt.plot_midi_vector(transient_vector, bpm, time_range=(32.35,45), units='s', figsize=(20,1), color='red', draw_beats=False)\n",
    "axs.plot([37.13, 37.4], [0.3, 0.3], 'Xk', markersize=10)"
   ]
  },
  {
   "cell_type": "code",
   "execution_count": null,
   "id": "5945c4a0",
   "metadata": {},
   "outputs": [],
   "source": [
    "def add_nan_transients(t, m):\n",
    "    m_star = delete_transients(m,t - t.min())\n",
    "    m_star_set = set(m_star)  # used for O(1) \"in\" operator on next line.\n",
    "    deleted_indices = [i for i in range(len(m)) if m[i] not in m_star_set]\n",
    "\n",
    "    t_star = t.copy()\n",
    "    for i in deleted_indices:\n",
    "        if i >= len(t_star):\n",
    "            t_star = np.append(t_star, np.nan)\n",
    "        else:\n",
    "            t_star = np.insert(t_star, i, np.nan)\n",
    "    \n",
    "    return t_star\n",
    "\n",
    "def explain_insertions(t, m, time_range=None):\n",
    "    explain_deletions(m,t - t.min(), time_range, reversed=True)\n",
    "    t_star = add_nan_transients(t, m)\n",
    "    \n",
    "    predictions = np.array([m[i] for i in np.argwhere(np.isnan(t_star)).flatten().tolist()])\n",
    "    predictions = predictions[(time_range[0] <= predictions) & (predictions <= time_range[1])]\n",
    "    plt.plot(predictions, [0.65]*len(predictions), '*m', markersize=10)\n",
    "    return plt.gca()"
   ]
  },
  {
   "cell_type": "code",
   "execution_count": null,
   "id": "c6e12b53",
   "metadata": {},
   "outputs": [
    {
     "data": {
      "text/plain": [
       "array([ 3.19047619,  3.49206349,  3.77777778,  4.07936508,  4.36507937,\n",
       "        4.66666667,  4.93650794,  5.22222222,  5.52380952,  5.80952381,\n",
       "        6.0952381 ,  6.36507937,  6.63492063,  6.92063492,  7.22222222,\n",
       "        7.50793651,  7.79365079,  8.0952381 ,  8.38095238,  8.66666667,\n",
       "        8.93650794,  9.22222222,  9.50793651,  9.80952381, 10.0952381 ,\n",
       "       10.25396825, 10.3968254 , 10.52380952, 10.66666667, 10.79365079,\n",
       "       10.93650794, 11.        , 11.07936508, 11.22222222, 11.36507937,\n",
       "       11.42857143, 11.50793651, 11.65079365, 11.79365079, 11.92063492,\n",
       "       12.06349206, 12.20634921, 12.34920635, 12.47619048, 12.61904762,\n",
       "       12.76190476, 12.82539683, 12.9047619 , 13.04761905, 13.17460317,\n",
       "       13.25396825, 13.33333333, 13.49206349, 13.61904762, 13.76190476,\n",
       "       13.9047619 , 14.04761905, 14.19047619, 14.33333333, 14.47619048,\n",
       "       14.6031746 , 14.68253968, 14.76190476, 14.9047619 , 15.04761905,\n",
       "       15.11111111, 15.19047619, 15.34920635, 15.47619048, 15.63492063,\n",
       "       15.76190476, 15.9047619 , 16.04761905, 16.12698413, 16.19047619,\n",
       "       16.26984127, 16.34920635, 16.50793651, 16.57142857, 16.61904762,\n",
       "       16.6984127 , 16.77777778, 16.92063492, 17.06349206, 17.20634921,\n",
       "       17.34920635, 17.49206349, 17.63492063, 17.77777778, 17.9047619 ,\n",
       "       17.98412698, 18.04761905, 18.11111111, 18.20634921, 18.34920635,\n",
       "       18.42857143, 18.50793651, 18.57142857, 18.65079365, 18.79365079,\n",
       "       18.93650794, 19.07936508, 19.22222222, 19.34920635, 19.49206349,\n",
       "       19.55555556, 19.65079365, 19.77777778, 19.84126984, 19.92063492,\n",
       "       20.        , 20.07936508, 20.23809524, 20.3015873 , 20.36507937,\n",
       "       20.50793651, 20.65079365, 20.79365079, 20.92063492, 21.06349206,\n",
       "       21.20634921, 21.28571429, 21.36507937, 21.41269841, 21.50793651,\n",
       "               nan, 21.58730159, 21.65079365, 21.73015873, 21.79365079,\n",
       "       21.87301587, 21.95238095, 22.07936508, 22.22222222, 22.34920635,\n",
       "       22.47619048, 22.63492063, 22.76190476, 22.88888889, 22.95238095,\n",
       "       23.03174603, 23.0952381 , 23.19047619, 23.33333333, 23.47619048,\n",
       "       23.55555556, 23.61904762, 23.6984127 , 23.79365079, 23.93650794,\n",
       "       24.06349206, 24.22222222, 24.36507937, 24.50793651, 24.65079365,\n",
       "       24.73015873, 24.79365079, 24.93650794, 25.01587302, 25.0952381 ,\n",
       "       25.22222222, 25.3015873 , 25.38095238, 25.53968254, 25.68253968,\n",
       "       25.80952381, 25.93650794, 26.07936508, 26.22222222, 26.34920635,\n",
       "       26.41269841, 26.49206349, 26.65079365, 26.71428571, 26.79365079,\n",
       "       26.93650794, 27.        , 27.0952381 , 27.25396825, 27.3968254 ,\n",
       "       27.52380952, 27.65079365, 27.79365079, 27.92063492, 28.07936508,\n",
       "       28.22222222, 28.3015873 , 28.38095238, 28.53968254, 28.58730159,\n",
       "       28.66666667, 28.79365079, 28.87301587, 28.95238095, 29.0952381 ,\n",
       "       29.23809524, 29.36507937, 29.50793651, 29.65079365, 29.79365079,\n",
       "       29.95238095, 30.01587302, 30.07936508, 30.22222222, 30.3015873 ,\n",
       "       30.36507937, 30.50793651, 30.57142857, 30.65079365, 30.79365079,\n",
       "       30.93650794, 31.07936508, 31.20634921, 31.34920635, 31.47619048,\n",
       "       31.63492063, 31.6984127 , 31.77777778, 31.85714286, 31.93650794,\n",
       "       32.        , 32.07936508, 32.15873016, 32.22222222, 32.3015873 ,\n",
       "       32.38095238, 32.50793651, 32.63492063, 32.77777778, 32.92063492,\n",
       "       33.04761905, 33.17460317, 33.33333333, 33.41269841, 33.47619048,\n",
       "       33.55555556, 33.65079365, 33.71428571, 33.79365079, 33.87301587,\n",
       "       33.93650794, 34.01587302, 34.07936508, 34.15873016, 34.23809524,\n",
       "       34.3015873 , 34.36507937, 34.42857143, 34.50793651, 34.57142857,\n",
       "       34.63492063, 34.71428571, 34.79365079, 34.85714286, 34.92063492,\n",
       "       35.        , 35.06349206, 35.14285714, 35.20634921, 35.28571429,\n",
       "       35.36507937, 35.44444444, 35.49206349, 35.57142857, 35.65079365,\n",
       "       35.73015873, 35.79365079, 35.87301587, 35.93650794, 36.01587302,\n",
       "       36.07936508, 36.14285714, 36.22222222, 36.28571429, 36.36507937,\n",
       "       36.42857143, 36.52380952, 36.57142857, 36.65079365, 36.71428571,\n",
       "       36.79365079, 36.87301587, 36.92063492, 36.98412698, 37.06349206,\n",
       "       37.19047619, 37.25396825, 37.33333333, 37.46031746,         nan,\n",
       "               nan])"
      ]
     },
     "execution_count": 13,
     "metadata": {},
     "output_type": "execute_result"
    }
   ],
   "source": [
    "t_star = add_nan_transients(transient_vector, midi_vector)\n",
    "t_star"
   ]
  },
  {
   "cell_type": "code",
   "execution_count": null,
   "id": "b6f41864",
   "metadata": {},
   "outputs": [
    {
     "data": {
      "text/plain": [
       "[125, 289, 290]"
      ]
     },
     "execution_count": 14,
     "metadata": {},
     "output_type": "execute_result"
    }
   ],
   "source": [
    "np.argwhere(np.isnan(t_star)).flatten().tolist()"
   ]
  },
  {
   "cell_type": "code",
   "execution_count": null,
   "id": "973d0b48",
   "metadata": {},
   "outputs": [
    {
     "data": {
      "text/plain": [
       "(291, 291)"
      ]
     },
     "execution_count": 15,
     "metadata": {},
     "output_type": "execute_result"
    }
   ],
   "source": [
    "len(t_star), len(midi_vector)"
   ]
  },
  {
   "cell_type": "code",
   "execution_count": null,
   "id": "00ae426a",
   "metadata": {},
   "outputs": [
    {
     "data": {
      "text/plain": [
       "[<matplotlib.lines.Line2D at 0x2a2a221f580>]"
      ]
     },
     "execution_count": 16,
     "metadata": {},
     "output_type": "execute_result"
    },
    {
     "data": {
      "image/png": "[encoded data removed]",
      "text/plain": [
       "<Figure size 1440x72 with 1 Axes>"
      ]
     },
     "metadata": {
      "needs_background": "light"
     },
     "output_type": "display_data"
    },
    {
     "data": {
      "image/png": "[encoded data removed]",
      "text/plain": [
       "<Figure size 1440x72 with 1 Axes>"
      ]
     },
     "metadata": {
      "needs_background": "light"
     },
     "output_type": "display_data"
    }
   ],
   "source": [
    "axs = explain_insertions(transient_vector, midi_vector, time_range=(15.4,19))\n",
    "axs.plot([18.82], [0.3], 'Xk', markersize=10)\n",
    "plt.title(f'Bad Transient Insertion ({sample_name})', fontsize=18)\n",
    "axs = explain_insertions(transient_vector, midi_vector, time_range=(29,45))\n",
    "axs.plot([33.93, 34.2], [0.3, 0.3], 'Xk', markersize=10)"
   ]
  }
 ],
 "metadata": {
  "kernelspec": {
   "display_name": "Python 3.9.6 ('rhythm_regression-KSygIgje')",
   "language": "python",
   "name": "python3"
  },
  "language_info": {
   "codemirror_mode": {
    "name": "ipython",
    "version": 3
   },
   "file_extension": ".py",
   "mimetype": "text/x-python",
   "name": "python",
   "nbconvert_exporter": "python",
   "pygments_lexer": "ipython3",
   "version": "3.9.6"
  },
  "vscode": {
   "interpreter": {
    "hash": "f5fefcb0b2edb96ddd085d5c182bfd26e30ca7cbb5011fde4256d91a0d673de7"
   }
  }
 },
 "nbformat": 4,
 "nbformat_minor": 5
}
